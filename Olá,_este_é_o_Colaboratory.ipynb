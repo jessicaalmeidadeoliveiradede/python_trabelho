{
  "cells": [
    {
      "cell_type": "markdown",
      "metadata": {
        "id": "view-in-github",
        "colab_type": "text"
      },
      "source": [
        "<a href=\"https://colab.research.google.com/github/jessicaalmeidadeoliveiradede/python_trabelho/blob/main/Ol%C3%A1%2C_este_%C3%A9_o_Colaboratory.ipynb\" target=\"_parent\"><img src=\"https://colab.research.google.com/assets/colab-badge.svg\" alt=\"Open In Colab\"/></a>"
      ]
    },
    {
      "cell_type": "code",
      "source": [
        "nome=str(input(\"digite seu nome \"))\n",
        "print(\"analisando o seu nome...\")\n",
        "print(\"seu nome e maluscula \",nome.upper)\n",
        "print(\"seu nome e minuscula \",nome.lower)\n",
        "print(\"seu nome tem ao todo  letras \",(len(nome)))\n"
      ],
      "metadata": {
        "colab": {
          "base_uri": "https://localhost:8080/"
        },
        "id": "xOXzzxl65W48",
        "outputId": "59ea1825-ac5d-4de2-cd51-e72f5ef59251"
      },
      "execution_count": 3,
      "outputs": [
        {
          "output_type": "stream",
          "name": "stdout",
          "text": [
            "digite seu nome Jessica Almeida de Oliveira\n",
            "analisando o seu nome...\n",
            "seu nome e maluscula  <built-in method upper of str object at 0x7f4fd07de030>\n",
            "seu nome e minuscula  <built-in method lower of str object at 0x7f4fd07de030>\n",
            "seu nome tem ao todo  letras  27\n"
          ]
        }
      ]
    }
  ],
  "metadata": {
    "colab": {
      "name": "Olá, este é o Colaboratory",
      "toc_visible": true,
      "provenance": [],
      "include_colab_link": true
    },
    "kernelspec": {
      "display_name": "Python 3",
      "name": "python3"
    }
  },
  "nbformat": 4,
  "nbformat_minor": 0
}